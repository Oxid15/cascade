{
 "cells": [
  {
   "cell_type": "markdown",
   "metadata": {},
   "source": [
    "# Dataset Zoo\n",
    "Cascade by itself is **DIY ML-engineering solution**. This means that it provides certain basics on top of which you can easily build own ML-workflow.  \n",
    "  \n",
    "Cascade has plenty of solutions - basic that are added to the core and more specific that are in the special `utils` module. And if you didn't found suitable component, you can write it yourself.  \n",
    "  \n",
    "Here some of already-made components are presented. These are the `Dataset`s - building blocks of Cascade's pipelines, their description and short examples of how to use them in your workflow."
   ]
  },
  {
   "cell_type": "code",
   "execution_count": 1,
   "metadata": {},
   "outputs": [
    {
     "name": "stdout",
     "output_type": "stream",
     "text": [
      "0.8.0\n"
     ]
    }
   ],
   "source": [
    "import cascade\n",
    "print(cascade.__version__)"
   ]
  },
  {
   "cell_type": "markdown",
   "metadata": {},
   "source": [
    "## Wrappers\n",
    "[Wrapper documentation](../cascade.data.html#cascade.data.Wrapper)  \n",
    "  \n",
    "If your solution has some data source that is already accesible in python-code, but you need to plug it in Cascade's workflow it may be all you need. `Wrapper` gives the items from the source one by one, adding some info about the undelying data to its metadata."
   ]
  },
  {
   "cell_type": "code",
   "execution_count": 2,
   "metadata": {},
   "outputs": [
    {
     "name": "stdout",
     "output_type": "stream",
     "text": [
      "0 1 2 3 4 "
     ]
    }
   ],
   "source": [
    "from cascade import data as cdd\n",
    "\n",
    "\n",
    "ds = cdd.Wrapper([0, 1, 2, 3, 4]) # Here for simplicity the list of numbers is a data source\n",
    "\n",
    "for item in ds:\n",
    "    print(item, end=' ')"
   ]
  },
  {
   "cell_type": "code",
   "execution_count": 3,
   "metadata": {},
   "outputs": [
    {
     "data": {
      "text/plain": [
       "[{'name': '<cascade.data.dataset.Wrapper',\n",
       "  'type': 'dataset',\n",
       "  'len': 5,\n",
       "  'obj_type': \"<class 'list'>\"}]"
      ]
     },
     "execution_count": 3,
     "metadata": {},
     "output_type": "execute_result"
    }
   ],
   "source": [
    "ds.get_meta()"
   ]
  },
  {
   "cell_type": "markdown",
   "metadata": {},
   "source": [
    "## Iterators\n",
    "[Iterator documentation](../cascade.data.html#cascade.data.Iterator)  \n",
    "  \n",
    "If data source doesn't have length - you cannot use `Wrapper`s, but it is not a problem, you can use `Iterator`s instead! It is basically the same dataset, but using different interface."
   ]
  },
  {
   "cell_type": "code",
   "execution_count": 4,
   "metadata": {},
   "outputs": [
    {
     "name": "stdout",
     "output_type": "stream",
     "text": [
      "0 1 2 3 4 "
     ]
    }
   ],
   "source": [
    "from cascade import data as cdd\n",
    "\n",
    "\n",
    "def gen():\n",
    "    for number in range(5):\n",
    "        yield number\n",
    "\n",
    "ds = cdd.Iterator(gen())\n",
    "\n",
    "for item in ds:\n",
    "    print(item, end=' ')"
   ]
  },
  {
   "cell_type": "markdown",
   "metadata": {},
   "source": [
    "## ApplyModifier\n",
    "[ApplyModifier documentation](../cascade.data.html#cascade.data.ApplyModifier)  \n",
    "  \n",
    "The pipelines are frequently applying some python-functions to the items in datasets. In Cascade this is done by using `ApplyModifier`."
   ]
  },
  {
   "cell_type": "code",
   "execution_count": 5,
   "metadata": {},
   "outputs": [
    {
     "name": "stdout",
     "output_type": "stream",
     "text": [
      "0 1 4 9 16 "
     ]
    }
   ],
   "source": [
    "from cascade import data as cdd\n",
    "\n",
    "\n",
    "# The function that will be applied\n",
    "def square(x):\n",
    "    return x ** 2\n",
    "\n",
    "ds = cdd.Wrapper([0, 1, 2, 3, 4])\n",
    "ds = cdd.ApplyModifier(ds, square) # ds now a pipeline of two stages\n",
    "\n",
    "for item in ds:\n",
    "    print(item, end=' ')"
   ]
  },
  {
   "cell_type": "markdown",
   "metadata": {},
   "source": [
    "## Concatenator\n",
    "[Concatenator documentation](../cascade.data.html#cascade.data.Concatenator)  \n",
    "  \n",
    "Concatenation is also frequent operation that is done to unify several datasets into one. In Cascade it is done easily using `Concatenator`."
   ]
  },
  {
   "cell_type": "code",
   "execution_count": 6,
   "metadata": {},
   "outputs": [
    {
     "name": "stdout",
     "output_type": "stream",
     "text": [
      "0 1 2 3 4 5 6 7 8 9 "
     ]
    }
   ],
   "source": [
    "from cascade import data as cdd\n",
    "\n",
    "\n",
    "ds_1 = cdd.Wrapper([0, 1, 2, 3, 4])\n",
    "ds_2 = cdd.Wrapper([5, 6, 7, 8, 9])\n",
    "\n",
    "ds = cdd.Concatenator((ds_1, ds_2))\n",
    "\n",
    "for item in ds:\n",
    "    print(item, end=' ')"
   ]
  },
  {
   "cell_type": "markdown",
   "metadata": {},
   "source": [
    "In addition, it also stores metadata of all its datasets."
   ]
  },
  {
   "cell_type": "code",
   "execution_count": 7,
   "metadata": {},
   "outputs": [
    {
     "data": {
      "text/plain": [
       "[{'name': '<cascade.data.concatenator.Concatenator of\\n<cascade.data.dataset.Wrapper\\n<cascade.data.dataset.Wrapper',\n",
       "  'type': 'dataset',\n",
       "  'data': [[{'name': '<cascade.data.dataset.Wrapper',\n",
       "     'type': 'dataset',\n",
       "     'len': 5,\n",
       "     'obj_type': \"<class 'list'>\"}],\n",
       "   [{'name': '<cascade.data.dataset.Wrapper',\n",
       "     'type': 'dataset',\n",
       "     'len': 5,\n",
       "     'obj_type': \"<class 'list'>\"}]]}]"
      ]
     },
     "execution_count": 7,
     "metadata": {},
     "output_type": "execute_result"
    }
   ],
   "source": [
    "ds.get_meta()"
   ]
  },
  {
   "cell_type": "markdown",
   "metadata": {},
   "source": [
    "## split\n",
    "[split documentation](../cascade.data.html#cascade.data.split)  \n",
    "  \n",
    "This is the opposite of concatenate - we can split one dataset into train and test parts easily with `cdd.split()`"
   ]
  },
  {
   "cell_type": "code",
   "execution_count": 5,
   "metadata": {},
   "outputs": [
    {
     "name": "stdout",
     "output_type": "stream",
     "text": [
      "0, 1, 2, 3, 4, 5, \n",
      "6, 7, "
     ]
    }
   ],
   "source": [
    "from cascade import data as cdd\n",
    "\n",
    "\n",
    "ds = cdd.Wrapper([0, 1, 2, 3, 4, 5, 6, 7])\n",
    "train_ds, test_ds = cdd.split(ds, 0.8)\n",
    "\n",
    "for item in train_ds:\n",
    "    print(item, end=' ')\n",
    "print()\n",
    "for item in test_ds:\n",
    "    print(item, end=' ')"
   ]
  },
  {
   "cell_type": "markdown",
   "metadata": {},
   "source": [
    "Basically, this function creates two RangeSampler dividing input dataset into two parts."
   ]
  },
  {
   "cell_type": "code",
   "execution_count": 3,
   "metadata": {},
   "outputs": [
    {
     "data": {
      "text/plain": [
       "[{'name': '<cascade.data.range_sampler.RangeSampler',\n",
       "  'type': 'dataset',\n",
       "  'len': 6},\n",
       " {'name': '<cascade.data.dataset.Wrapper',\n",
       "  'type': 'dataset',\n",
       "  'len': 8,\n",
       "  'obj_type': \"<class 'list'>\"}]"
      ]
     },
     "execution_count": 3,
     "metadata": {},
     "output_type": "execute_result"
    }
   ],
   "source": [
    "train_ds.get_meta()"
   ]
  },
  {
   "cell_type": "markdown",
   "metadata": {},
   "source": [
    "## Composer\n",
    "[Composer documentation](../cascade.data.html#cascade.data.Composer)  \n",
    "\n",
    "Composer is another way of unifying two datasets, but in this case the union dataset returns tuples of item from composed datasets. This is useful, when items and labels for classification are from different datasets."
   ]
  },
  {
   "cell_type": "code",
   "execution_count": 1,
   "metadata": {},
   "outputs": [
    {
     "data": {
      "text/plain": [
       "[('A', 0), ('B', 1), ('C', 0), ('D', 1)]"
      ]
     },
     "execution_count": 1,
     "metadata": {},
     "output_type": "execute_result"
    }
   ],
   "source": [
    "from cascade import data as cdd\n",
    "\n",
    "\n",
    "items = cdd.Wrapper(['A', 'B', 'C', 'D'])\n",
    "labels = cdd.Wrapper([0, 1, 0, 1])\n",
    "\n",
    "ds = cdd.Composer((items, labels))\n",
    "\n",
    "[item for item in ds]"
   ]
  },
  {
   "cell_type": "markdown",
   "metadata": {},
   "source": [
    "## CyclicSampler\n",
    "[CyclicSampler documentation](../cascade.data.html#cascade.data.CyclicSampler)  \n",
    "  \n",
    "When you need an easy way to repeat your dataset several times or the opposite - restrict the number of items in dataset, you can use this."
   ]
  },
  {
   "cell_type": "code",
   "execution_count": 8,
   "metadata": {},
   "outputs": [
    {
     "name": "stdout",
     "output_type": "stream",
     "text": [
      "0 1 2 3 4 0 1 2 3 4 0 "
     ]
    }
   ],
   "source": [
    "from cascade import data as cdd\n",
    "\n",
    "\n",
    "ds = cdd.Wrapper([0, 1, 2, 3, 4])\n",
    "ds = cdd.CyclicSampler(ds, 11)\n",
    "\n",
    "for item in ds:\n",
    "    print(item, end=' ')"
   ]
  },
  {
   "cell_type": "markdown",
   "metadata": {},
   "source": [
    "## RandomSampler\n",
    "[RandomSampler documentation](../cascade.data.html#cascade.data.RandomSampler)  \n",
    "  \n",
    "Undeterministic counterpart of CyclicSampler. Ideal solution for shuffling the data in lazy way."
   ]
  },
  {
   "cell_type": "code",
   "execution_count": 58,
   "metadata": {},
   "outputs": [
    {
     "name": "stdout",
     "output_type": "stream",
     "text": [
      "4 0 3 3 3 1 3 2 4 0 0 "
     ]
    }
   ],
   "source": [
    "from cascade import data as cdd\n",
    "import numpy as np\n",
    "np.random.seed(0)\n",
    "\n",
    "\n",
    "ds = cdd.Wrapper([0, 1, 2, 3, 4])\n",
    "ds = cdd.RandomSampler(ds, 11)\n",
    "\n",
    "for item in ds:\n",
    "    print(item, end=' ')"
   ]
  },
  {
   "cell_type": "markdown",
   "metadata": {},
   "source": [
    "With no arguments - shuffles the dataset."
   ]
  },
  {
   "cell_type": "code",
   "execution_count": 59,
   "metadata": {},
   "outputs": [
    {
     "name": "stdout",
     "output_type": "stream",
     "text": [
      "3 0 1 2 4 "
     ]
    }
   ],
   "source": [
    "ds = cdd.Wrapper([0, 1, 2, 3, 4])\n",
    "ds = cdd.RandomSampler(ds)\n",
    "\n",
    "for item in ds:\n",
    "    print(item, end=' ')"
   ]
  },
  {
   "cell_type": "markdown",
   "metadata": {},
   "source": [
    "## RangeSampler\n",
    "[RangeSampler documentation](../cascade.data.html#cascade.data.RangeSampler)  \n",
    "  \n",
    "This is if you need python's range in Cascade realm. Has just similar interface as `range`."
   ]
  },
  {
   "cell_type": "code",
   "execution_count": 10,
   "metadata": {},
   "outputs": [
    {
     "name": "stdout",
     "output_type": "stream",
     "text": [
      "1 3 5 7 9 "
     ]
    }
   ],
   "source": [
    "from cascade import data as cdd\n",
    "\n",
    "\n",
    "ds = cdd.Wrapper([0, 1, 2, 3, 4 , 5, 6, 7, 8, 9, 10])\n",
    "ds = cdd.RangeSampler(ds, 1, 10, 2)\n",
    "\n",
    "for item in ds:\n",
    "    print(item, end=' ')"
   ]
  },
  {
   "cell_type": "markdown",
   "metadata": {},
   "source": [
    "## BruteforceCacher\n",
    "[BruteforceCacher documentation](../cascade.data.html#cascade.data.BruteforceCacher)  \n",
    "  \n",
    "Modifiers are lazy and not storing all data in memory. This is important when datasets are big and do not fit into memory, but can slow down some processes. If your data fits into memory, you can cache previous stages of pipeline to speed up next stages.  \n",
    "  \n",
    "Suppose for example that we need to obtain our data through very slow network"
   ]
  },
  {
   "cell_type": "code",
   "execution_count": 61,
   "metadata": {},
   "outputs": [
    {
     "name": "stderr",
     "output_type": "stream",
     "text": [
      "100%|██████████| 10/10 [00:10<00:00,  1.01s/it]\n"
     ]
    }
   ],
   "source": [
    "import time\n",
    "\n",
    "\n",
    "class LongLoadingDataSource(cdd.Dataset):\n",
    "    def __init__(self, length, *args, **kwargs):\n",
    "        super().__init__(*args, **kwargs)\n",
    "        self._length = length\n",
    "\n",
    "    def __getitem__(self, index):\n",
    "        time.sleep(1)\n",
    "        return index\n",
    "    \n",
    "    def __len__(self):\n",
    "        return self._length\n",
    "\n",
    "ds = LongLoadingDataSource(10)\n",
    "ds = cdd.BruteforceCacher(ds)"
   ]
  },
  {
   "cell_type": "markdown",
   "metadata": {},
   "source": [
    "Now we waited all loading process and cached everything. Since that all data is in memory and the loading is no problem.\n",
    "But what if we have a script that should be executed every time and then caching has no sense?"
   ]
  },
  {
   "cell_type": "markdown",
   "metadata": {},
   "source": [
    "## Pickler\n",
    "[Pickler documentation](../cascade.data.html#cascade.data.Pickler)  \n",
    "  \n",
    "\n",
    "For these purposes `Pickler` was implemented. You can cache and then pickle previous pipeline on the disk, then load it and use without problems. "
   ]
  },
  {
   "cell_type": "code",
   "execution_count": 62,
   "metadata": {},
   "outputs": [
    {
     "name": "stderr",
     "output_type": "stream",
     "text": [
      "100%|██████████| 10/10 [00:10<00:00,  1.01s/it]\n"
     ]
    }
   ],
   "source": [
    "ds = LongLoadingDataSource(10)\n",
    "ds = cdd.BruteforceCacher(ds)\n",
    "ds = cdd.Pickler('ds.pkl', ds)"
   ]
  },
  {
   "cell_type": "code",
   "execution_count": 63,
   "metadata": {},
   "outputs": [
    {
     "name": "stderr",
     "output_type": "stream",
     "text": [
      "100%|██████████| 10/10 [00:00<00:00, 8336.92it/s]"
     ]
    },
    {
     "name": "stdout",
     "output_type": "stream",
     "text": [
      "0 1 2 3 4 5 6 7 8 9 "
     ]
    },
    {
     "name": "stderr",
     "output_type": "stream",
     "text": [
      "\n"
     ]
    }
   ],
   "source": [
    "from tqdm import tqdm\n",
    "\n",
    "ds = cdd.Pickler('ds.pkl')\n",
    "\n",
    "for item in tqdm(ds):\n",
    "    print(item, end=' ')"
   ]
  },
  {
   "cell_type": "markdown",
   "metadata": {},
   "source": [
    "Note that after unpickling we don't need to wait for loading again."
   ]
  },
  {
   "cell_type": "markdown",
   "metadata": {},
   "source": [
    "## SequentialCacher\n",
    "[SequentialCacher documentation](../cascade.data.html#cascade.data.SequentialCacher)  \n",
    "  \n",
    "Some data is accessed sequentially and can be cached in advance by batches."
   ]
  },
  {
   "cell_type": "code",
   "execution_count": 64,
   "metadata": {},
   "outputs": [
    {
     "name": "stdout",
     "output_type": "stream",
     "text": [
      "Step 0\n",
      "loaded 0\n",
      "loaded 1\n",
      "loaded 2\n",
      "loaded 3\n",
      "loaded 4\n",
      "loaded 5\n",
      "loaded 6\n",
      "loaded 7\n",
      "loaded 8\n",
      "loaded 9\n",
      "Step 1\n",
      "Step 2\n",
      "Step 3\n",
      "Step 4\n",
      "Step 5\n",
      "Step 6\n",
      "Step 7\n",
      "Step 8\n",
      "Step 9\n",
      "Step 10\n",
      "loaded 10\n",
      "loaded 11\n",
      "loaded 12\n",
      "loaded 13\n",
      "loaded 14\n",
      "loaded 15\n",
      "loaded 16\n",
      "loaded 17\n",
      "loaded 18\n",
      "loaded 19\n"
     ]
    }
   ],
   "source": [
    "from cascade import data as cdd\n",
    "\n",
    "\n",
    "class AlertOnLoad(cdd.Dataset):\n",
    "    # This dataset prints the value every time it is accessed\n",
    "    def __init__(self, length, *args, **kwargs):\n",
    "        super().__init__(*args, **kwargs)\n",
    "        self._length = length\n",
    "\n",
    "    def __getitem__(self, index):\n",
    "        print(f'loaded {index}')\n",
    "        return index\n",
    "    \n",
    "    def __len__(self):\n",
    "        return self._length\n",
    "\n",
    "\n",
    "ds = AlertOnLoad(100)\n",
    "ds = cdd.SequentialCacher(ds, 10)\n",
    "\n",
    "for i in range(11):\n",
    "    print(f'Step {i}')\n",
    "    ds[i] # Load the element"
   ]
  },
  {
   "cell_type": "markdown",
   "metadata": {},
   "source": [
    "## VersionAssigner\n",
    "[VersionAssigner documentation](../cascade.data.html#cascade.data.VersionAssigner)  \n",
    "  \n",
    "Dataset versioning is the way to compress whole information about a pipeline into human-readable form of semantically significant numbers separated by a dot.  \n",
    "The principle is basically the same as in SemVer - the version structure is `MAJOR.MINOR`. The first component changes when the change is in the pipeline composition i.e. some modifiers added/deleted. The second changes when any field of meta data changes.  \n",
    "VersionAssigner tracks versions using special log file, which can be used by the user to determine which kind of dataset corresponds to which version."
   ]
  },
  {
   "cell_type": "code",
   "execution_count": 2,
   "metadata": {},
   "outputs": [
    {
     "name": "stdout",
     "output_type": "stream",
     "text": [
      "Dataset version: 0.0\n"
     ]
    }
   ],
   "source": [
    "from cascade import data as cdd\n",
    "\n",
    "\n",
    "ds = cdd.Wrapper([0, 1, 2, 3, 4])\n",
    "ds = cdd.VersionAssigner(ds, 'data_log.yml', verbose=True)"
   ]
  },
  {
   "cell_type": "code",
   "execution_count": 3,
   "metadata": {},
   "outputs": [
    {
     "name": "stdout",
     "output_type": "stream",
     "text": [
      "Dataset version: 1.0\n"
     ]
    }
   ],
   "source": [
    "# Change its structure - add new modifier\n",
    "ds = cdd.Wrapper([0, 1, 2, 3, 4])\n",
    "ds = cdd.RangeSampler(ds, 0, len(ds), 2)\n",
    "ds = cdd.VersionAssigner(ds, 'data_log.yml', verbose=True)\n"
   ]
  },
  {
   "cell_type": "code",
   "execution_count": 5,
   "metadata": {},
   "outputs": [
    {
     "name": "stdout",
     "output_type": "stream",
     "text": [
      "Dataset version: 0.0\n"
     ]
    }
   ],
   "source": [
    "# Revert changes - version downgrades back using records\n",
    "# in the data_log\n",
    "ds = cdd.Wrapper([0, 1, 2, 3, 4])\n",
    "ds = cdd.VersionAssigner(ds, 'data_log.yml', verbose=True)\n"
   ]
  },
  {
   "cell_type": "code",
   "execution_count": 6,
   "metadata": {},
   "outputs": [
    {
     "name": "stdout",
     "output_type": "stream",
     "text": [
      "Dataset version: 0.1\n"
     ]
    }
   ],
   "source": [
    "# Update input data - minor update\n",
    "ds = cdd.Wrapper([0, 1, 2, 3, 4, 5])\n",
    "ds = cdd.VersionAssigner(ds, 'data_log.yml', verbose=True)"
   ]
  },
  {
   "cell_type": "markdown",
   "metadata": {},
   "source": [
    "## OverSampler and UnderSampler\n",
    "[OverSampler documentation](../cascade.utils.html#cascade.utils.OverSampler)  \n",
    "[UnderSampler documentation](../cascade.utils.html#cascade.utils.UnderSampler)  \n",
    "  \n",
    "These sampling strategies placed into utils module because they make quite big assumtions about datasets - that they emit tuples and the second element of each tuple is a classification label. \n",
    "   \n",
    "Using that labels they equalize label distribution by repeating or deleting some elements. The sampler themselves are lazy, but to obtain label distribution, they load elements one-by-one not storing them in memory in initialization.  \n",
    "  \n",
    "They are also deterministic and place elements with similar labels together. Consider using `RandomSampler` to shuffle datasets before passing them to learning."
   ]
  },
  {
   "cell_type": "code",
   "execution_count": 6,
   "metadata": {},
   "outputs": [
    {
     "name": "stderr",
     "output_type": "stream",
     "text": [
      "100%|██████████| 4/4 [00:00<00:00, 1971.93it/s]"
     ]
    },
    {
     "name": "stdout",
     "output_type": "stream",
     "text": [
      "Original length was 4 and new is 6\n"
     ]
    },
    {
     "name": "stderr",
     "output_type": "stream",
     "text": [
      "\n"
     ]
    },
    {
     "data": {
      "text/plain": [
       "[('a', 0), ('b', 1), ('c', 1), ('d', 2), ('a', 0), ('d', 2)]"
      ]
     },
     "execution_count": 6,
     "metadata": {},
     "output_type": "execute_result"
    }
   ],
   "source": [
    "from cascade import utils as cdu\n",
    "from cascade import data as cdd\n",
    "\n",
    "\n",
    "ds = cdd.Wrapper([\n",
    "    ('a', 0),\n",
    "    ('b', 1),\n",
    "    ('c', 1),\n",
    "    ('d', 2),\n",
    "])\n",
    "\n",
    "ds = cdu.OverSampler(ds)\n",
    "[item for item in ds]"
   ]
  },
  {
   "cell_type": "code",
   "execution_count": 7,
   "metadata": {},
   "outputs": [
    {
     "name": "stderr",
     "output_type": "stream",
     "text": [
      "100%|██████████| 4/4 [00:00<00:00, 3474.98it/s]"
     ]
    },
    {
     "name": "stdout",
     "output_type": "stream",
     "text": [
      "Original length was 4 and new is 3\n"
     ]
    },
    {
     "name": "stderr",
     "output_type": "stream",
     "text": [
      "\n"
     ]
    },
    {
     "data": {
      "text/plain": [
       "[('a', 0), ('b', 1), ('d', 2)]"
      ]
     },
     "execution_count": 7,
     "metadata": {},
     "output_type": "execute_result"
    }
   ],
   "source": [
    "ds = cdd.Wrapper([\n",
    "    ('a', 0),\n",
    "    ('b', 1),\n",
    "    ('c', 1),\n",
    "    ('d', 2),\n",
    "])\n",
    "\n",
    "ds = cdu.UnderSampler(ds)\n",
    "[item for item in ds]"
   ]
  },
  {
   "cell_type": "markdown",
   "metadata": {},
   "source": [
    "## WeighedSampler\n",
    "[WeighedSampler documentation](../cascade.utils.html#cascade.utils.WeighedSampler)  \n",
    "\n",
    "If you need more freedom in how to sample your data according to the label you have, you can use this"
   ]
  },
  {
   "cell_type": "code",
   "execution_count": 2,
   "metadata": {},
   "outputs": [
    {
     "name": "stderr",
     "output_type": "stream",
     "text": [
      "100%|██████████| 4/4 [00:00<?, ?it/s]"
     ]
    },
    {
     "name": "stdout",
     "output_type": "stream",
     "text": [
      "Original length was 4 and new is 7\n"
     ]
    },
    {
     "name": "stderr",
     "output_type": "stream",
     "text": [
      "\n"
     ]
    },
    {
     "data": {
      "text/plain": [
       "[('A', 0), ('B', 0), ('A', 0), ('B', 0), ('C', 1), ('C', 1), ('D', 2)]"
      ]
     },
     "execution_count": 2,
     "metadata": {},
     "output_type": "execute_result"
    }
   ],
   "source": [
    "from cascade import utils as cdu\n",
    "from cascade import data as cdd\n",
    "\n",
    "ds = cdd.Wrapper([\n",
    "    ('A', 0),\n",
    "    ('B', 0),\n",
    "    ('C', 1),\n",
    "    ('D', 2),\n",
    "])\n",
    "\n",
    "ds = cdu.WeighedSampler(ds, partitioning={\n",
    "    0: 4,\n",
    "    1: 2\n",
    "})\n",
    "\n",
    "[item for item in ds]"
   ]
  },
  {
   "cell_type": "markdown",
   "metadata": {},
   "source": [
    "## Specific datasets\n",
    "  \n",
    "Some data types require specific functionality from its dataset wrapper. Some wrappers are already implemented and contain a number of useful tools and features."
   ]
  },
  {
   "cell_type": "markdown",
   "metadata": {},
   "source": [
    "### TimeSeriesDataset\n",
    "[TimeSeriesDataset documentation](../cascade.utils.html#cascade.utils.TimeSeriesDataset)  \n",
    "\n",
    "One `TimeSeriesDataset` contains whole time series data. They require separate time and data channels to initialize."
   ]
  },
  {
   "cell_type": "code",
   "execution_count": 9,
   "metadata": {},
   "outputs": [
    {
     "data": {
      "text/html": [
       "<div>\n",
       "<style scoped>\n",
       "    .dataframe tbody tr th:only-of-type {\n",
       "        vertical-align: middle;\n",
       "    }\n",
       "\n",
       "    .dataframe tbody tr th {\n",
       "        vertical-align: top;\n",
       "    }\n",
       "\n",
       "    .dataframe thead th {\n",
       "        text-align: right;\n",
       "    }\n",
       "</style>\n",
       "<table border=\"1\" class=\"dataframe\">\n",
       "  <thead>\n",
       "    <tr style=\"text-align: right;\">\n",
       "      <th></th>\n",
       "      <th>0</th>\n",
       "    </tr>\n",
       "  </thead>\n",
       "  <tbody>\n",
       "    <tr>\n",
       "      <th>2022-11-05</th>\n",
       "      <td>0</td>\n",
       "    </tr>\n",
       "    <tr>\n",
       "      <th>2022-11-06</th>\n",
       "      <td>1</td>\n",
       "    </tr>\n",
       "    <tr>\n",
       "      <th>2022-11-07</th>\n",
       "      <td>2</td>\n",
       "    </tr>\n",
       "  </tbody>\n",
       "</table>\n",
       "</div>"
      ],
      "text/plain": [
       "            0\n",
       "2022-11-05  0\n",
       "2022-11-06  1\n",
       "2022-11-07  2"
      ]
     },
     "execution_count": 9,
     "metadata": {},
     "output_type": "execute_result"
    }
   ],
   "source": [
    "import datetime\n",
    "from cascade import utils as cdu\n",
    "\n",
    "\n",
    "ds = cdu.TimeSeriesDataset(time=[\n",
    "    datetime.datetime(2022, 11, 5),\n",
    "    datetime.datetime(2022, 11, 6),\n",
    "    datetime.datetime(2022, 11, 7),\n",
    "], data=[0, 1, 2])\n",
    "\n",
    "ds.to_pandas()"
   ]
  },
  {
   "cell_type": "markdown",
   "metadata": {},
   "source": [
    "The important thing about these datasets is that they *always should be initialized with keywords*. The usage of `time` and `data` is mandatory for dataset to work. The same applies to other specific datasets such as TableDataset and its keyword `t` for table."
   ]
  },
  {
   "cell_type": "code",
   "execution_count": 12,
   "metadata": {},
   "outputs": [
    {
     "data": {
      "text/html": [
       "<div>\n",
       "<style scoped>\n",
       "    .dataframe tbody tr th:only-of-type {\n",
       "        vertical-align: middle;\n",
       "    }\n",
       "\n",
       "    .dataframe tbody tr th {\n",
       "        vertical-align: top;\n",
       "    }\n",
       "\n",
       "    .dataframe thead th {\n",
       "        text-align: right;\n",
       "    }\n",
       "</style>\n",
       "<table border=\"1\" class=\"dataframe\">\n",
       "  <thead>\n",
       "    <tr style=\"text-align: right;\">\n",
       "      <th></th>\n",
       "      <th>0</th>\n",
       "    </tr>\n",
       "  </thead>\n",
       "  <tbody>\n",
       "  </tbody>\n",
       "</table>\n",
       "</div>"
      ],
      "text/plain": [
       "Empty DataFrame\n",
       "Columns: [0]\n",
       "Index: []"
      ]
     },
     "execution_count": 12,
     "metadata": {},
     "output_type": "execute_result"
    }
   ],
   "source": [
    "ds = cdu.TimeSeriesDataset([\n",
    "    datetime.datetime(2022, 11, 5),\n",
    "    datetime.datetime(2022, 11, 6),\n",
    "    datetime.datetime(2022, 11, 7),\n",
    "], [0, 1, 2])\n",
    "\n",
    "ds.to_pandas()"
   ]
  },
  {
   "cell_type": "markdown",
   "metadata": {},
   "source": [
    "This is due to unification of two interfaces in `Modifier`s for these datasets. A `Modifier` should be also `TimeSeriesDataset`. \n",
    "   \n",
    "Let's initialize ds again:"
   ]
  },
  {
   "cell_type": "code",
   "execution_count": 29,
   "metadata": {},
   "outputs": [],
   "source": [
    "ds = cdu.TimeSeriesDataset(time=[\n",
    "    datetime.datetime(2022, 11, 5),\n",
    "    datetime.datetime(2022, 11, 6),\n",
    "    datetime.datetime(2022, 11, 7),\n",
    "    datetime.datetime(2022, 11, 8),\n",
    "], data=[1, 0, 2, 5])"
   ]
  },
  {
   "cell_type": "markdown",
   "metadata": {},
   "source": [
    "You can use several convenience access methods such as any type of indexing: using integers or dates."
   ]
  },
  {
   "cell_type": "code",
   "execution_count": 30,
   "metadata": {},
   "outputs": [
    {
     "data": {
      "text/plain": [
       "2"
      ]
     },
     "execution_count": 30,
     "metadata": {},
     "output_type": "execute_result"
    }
   ],
   "source": [
    "ds[2]"
   ]
  },
  {
   "cell_type": "code",
   "execution_count": 31,
   "metadata": {},
   "outputs": [
    {
     "data": {
      "text/plain": [
       "2"
      ]
     },
     "execution_count": 31,
     "metadata": {},
     "output_type": "execute_result"
    }
   ],
   "source": [
    "ds[datetime.datetime(2022, 11, 7)]"
   ]
  },
  {
   "cell_type": "markdown",
   "metadata": {},
   "source": [
    "The slices are also available."
   ]
  },
  {
   "cell_type": "code",
   "execution_count": 32,
   "metadata": {},
   "outputs": [
    {
     "data": {
      "text/html": [
       "<div>\n",
       "<style scoped>\n",
       "    .dataframe tbody tr th:only-of-type {\n",
       "        vertical-align: middle;\n",
       "    }\n",
       "\n",
       "    .dataframe tbody tr th {\n",
       "        vertical-align: top;\n",
       "    }\n",
       "\n",
       "    .dataframe thead th {\n",
       "        text-align: right;\n",
       "    }\n",
       "</style>\n",
       "<table border=\"1\" class=\"dataframe\">\n",
       "  <thead>\n",
       "    <tr style=\"text-align: right;\">\n",
       "      <th></th>\n",
       "      <th>0</th>\n",
       "    </tr>\n",
       "  </thead>\n",
       "  <tbody>\n",
       "    <tr>\n",
       "      <th>2022-11-06</th>\n",
       "      <td>0</td>\n",
       "    </tr>\n",
       "    <tr>\n",
       "      <th>2022-11-07</th>\n",
       "      <td>2</td>\n",
       "    </tr>\n",
       "    <tr>\n",
       "      <th>2022-11-08</th>\n",
       "      <td>5</td>\n",
       "    </tr>\n",
       "  </tbody>\n",
       "</table>\n",
       "</div>"
      ],
      "text/plain": [
       "            0\n",
       "2022-11-06  0\n",
       "2022-11-07  2\n",
       "2022-11-08  5"
      ]
     },
     "execution_count": 32,
     "metadata": {},
     "output_type": "execute_result"
    }
   ],
   "source": [
    "ds[1:].to_pandas() # Using integers"
   ]
  },
  {
   "cell_type": "code",
   "execution_count": 33,
   "metadata": {},
   "outputs": [
    {
     "data": {
      "text/html": [
       "<div>\n",
       "<style scoped>\n",
       "    .dataframe tbody tr th:only-of-type {\n",
       "        vertical-align: middle;\n",
       "    }\n",
       "\n",
       "    .dataframe tbody tr th {\n",
       "        vertical-align: top;\n",
       "    }\n",
       "\n",
       "    .dataframe thead th {\n",
       "        text-align: right;\n",
       "    }\n",
       "</style>\n",
       "<table border=\"1\" class=\"dataframe\">\n",
       "  <thead>\n",
       "    <tr style=\"text-align: right;\">\n",
       "      <th></th>\n",
       "      <th>0</th>\n",
       "    </tr>\n",
       "  </thead>\n",
       "  <tbody>\n",
       "    <tr>\n",
       "      <th>2022-11-06</th>\n",
       "      <td>0</td>\n",
       "    </tr>\n",
       "    <tr>\n",
       "      <th>2022-11-07</th>\n",
       "      <td>2</td>\n",
       "    </tr>\n",
       "    <tr>\n",
       "      <th>2022-11-08</th>\n",
       "      <td>5</td>\n",
       "    </tr>\n",
       "  </tbody>\n",
       "</table>\n",
       "</div>"
      ],
      "text/plain": [
       "            0\n",
       "2022-11-06  0\n",
       "2022-11-07  2\n",
       "2022-11-08  5"
      ]
     },
     "execution_count": 33,
     "metadata": {},
     "output_type": "execute_result"
    }
   ],
   "source": [
    "ds[datetime.datetime(2022, 11, 6):].to_pandas() # Or using time"
   ]
  },
  {
   "cell_type": "markdown",
   "metadata": {},
   "source": [
    "Note that every slice returns new `TimeSerisDataset` instance."
   ]
  },
  {
   "cell_type": "markdown",
   "metadata": {},
   "source": [
    "There is always a general way to extract all data, which is most useful for plotting data."
   ]
  },
  {
   "cell_type": "code",
   "execution_count": 34,
   "metadata": {},
   "outputs": [
    {
     "data": {
      "text/plain": [
       "(array([datetime.datetime(2022, 11, 5, 0, 0),\n",
       "        datetime.datetime(2022, 11, 6, 0, 0),\n",
       "        datetime.datetime(2022, 11, 7, 0, 0),\n",
       "        datetime.datetime(2022, 11, 8, 0, 0)], dtype=object),\n",
       " array([1, 0, 2, 5]))"
      ]
     },
     "execution_count": 34,
     "metadata": {},
     "output_type": "execute_result"
    }
   ],
   "source": [
    "ds.get_data()"
   ]
  },
  {
   "cell_type": "code",
   "execution_count": 35,
   "metadata": {},
   "outputs": [
    {
     "data": {
      "text/plain": [
       "[<matplotlib.lines.Line2D at 0x20371829660>]"
      ]
     },
     "execution_count": 35,
     "metadata": {},
     "output_type": "execute_result"
    },
    {
     "data": {
      "image/png": "[encoded data removed]",
      "text/plain": [
       "<Figure size 432x288 with 1 Axes>"
      ]
     },
     "metadata": {
      "needs_background": "light"
     },
     "output_type": "display_data"
    }
   ],
   "source": [
    "from matplotlib import pyplot as plt\n",
    "\n",
    "plt.plot(*ds.get_data())"
   ]
  },
  {
   "cell_type": "markdown",
   "metadata": {},
   "source": [
    "You can always get the data alone using `to_numpy()`"
   ]
  },
  {
   "cell_type": "code",
   "execution_count": 36,
   "metadata": {},
   "outputs": [
    {
     "data": {
      "text/plain": [
       "array([1, 0, 2, 5])"
      ]
     },
     "execution_count": 36,
     "metadata": {},
     "output_type": "execute_result"
    }
   ],
   "source": [
    "ds.to_numpy()"
   ]
  },
  {
   "cell_type": "markdown",
   "metadata": {},
   "source": [
    "Interpolation in case of any missing data is crucial when working with real-life time series. Here it is implemented in `Modifier`.  \n",
    "  \n",
    "First - dataset is initialized with nan-value. Nan-value is `numpy.nan` because Interpolate uses pandas under-the-hood."
   ]
  },
  {
   "cell_type": "code",
   "execution_count": 26,
   "metadata": {},
   "outputs": [
    {
     "data": {
      "text/html": [
       "<div>\n",
       "<style scoped>\n",
       "    .dataframe tbody tr th:only-of-type {\n",
       "        vertical-align: middle;\n",
       "    }\n",
       "\n",
       "    .dataframe tbody tr th {\n",
       "        vertical-align: top;\n",
       "    }\n",
       "\n",
       "    .dataframe thead th {\n",
       "        text-align: right;\n",
       "    }\n",
       "</style>\n",
       "<table border=\"1\" class=\"dataframe\">\n",
       "  <thead>\n",
       "    <tr style=\"text-align: right;\">\n",
       "      <th></th>\n",
       "      <th>0</th>\n",
       "    </tr>\n",
       "  </thead>\n",
       "  <tbody>\n",
       "    <tr>\n",
       "      <th>2022-11-05</th>\n",
       "      <td>0.0</td>\n",
       "    </tr>\n",
       "    <tr>\n",
       "      <th>2022-11-06</th>\n",
       "      <td>NaN</td>\n",
       "    </tr>\n",
       "    <tr>\n",
       "      <th>2022-11-07</th>\n",
       "      <td>2.0</td>\n",
       "    </tr>\n",
       "  </tbody>\n",
       "</table>\n",
       "</div>"
      ],
      "text/plain": [
       "              0\n",
       "2022-11-05  0.0\n",
       "2022-11-06  NaN\n",
       "2022-11-07  2.0"
      ]
     },
     "execution_count": 26,
     "metadata": {},
     "output_type": "execute_result"
    }
   ],
   "source": [
    "import numpy as np\n",
    "\n",
    "ds = cdu.TimeSeriesDataset(time=[\n",
    "    datetime.datetime(2022, 11, 5),\n",
    "    datetime.datetime(2022, 11, 6),\n",
    "    datetime.datetime(2022, 11, 7),\n",
    "], data=[0, np.nan, 2])\n",
    "\n",
    "ds.to_pandas()"
   ]
  },
  {
   "cell_type": "code",
   "execution_count": 19,
   "metadata": {},
   "outputs": [
    {
     "data": {
      "text/html": [
       "<div>\n",
       "<style scoped>\n",
       "    .dataframe tbody tr th:only-of-type {\n",
       "        vertical-align: middle;\n",
       "    }\n",
       "\n",
       "    .dataframe tbody tr th {\n",
       "        vertical-align: top;\n",
       "    }\n",
       "\n",
       "    .dataframe thead th {\n",
       "        text-align: right;\n",
       "    }\n",
       "</style>\n",
       "<table border=\"1\" class=\"dataframe\">\n",
       "  <thead>\n",
       "    <tr style=\"text-align: right;\">\n",
       "      <th></th>\n",
       "      <th>0</th>\n",
       "    </tr>\n",
       "  </thead>\n",
       "  <tbody>\n",
       "    <tr>\n",
       "      <th>2022-11-05</th>\n",
       "      <td>0</td>\n",
       "    </tr>\n",
       "    <tr>\n",
       "      <th>2022-11-06</th>\n",
       "      <td>1</td>\n",
       "    </tr>\n",
       "    <tr>\n",
       "      <th>2022-11-07</th>\n",
       "      <td>2</td>\n",
       "    </tr>\n",
       "  </tbody>\n",
       "</table>\n",
       "</div>"
      ],
      "text/plain": [
       "            0\n",
       "2022-11-05  0\n",
       "2022-11-06  1\n",
       "2022-11-07  2"
      ]
     },
     "execution_count": 19,
     "metadata": {},
     "output_type": "execute_result"
    }
   ],
   "source": [
    "cdu.Interpolate(ds, method='linear', limit_direction='both').to_pandas() # These arguments are defaults"
   ]
  },
  {
   "cell_type": "markdown",
   "metadata": {},
   "source": [
    "Averaging over some time-window is also a frequent task in work with time-series. Here in `Average` you can set the time grain and a quantity to average."
   ]
  },
  {
   "cell_type": "code",
   "execution_count": 20,
   "metadata": {},
   "outputs": [],
   "source": [
    "import pendulum\n",
    "\n",
    "\n",
    "ds = cdu.TimeSeriesDataset(time=[\n",
    "    pendulum.datetime(2022, 11, 5),\n",
    "    pendulum.datetime(2022, 11, 6),\n",
    "    pendulum.datetime(2022, 11, 7),\n",
    "    pendulum.datetime(2022, 11, 8),\n",
    "], data=[0, 1, 2, 3])"
   ]
  },
  {
   "cell_type": "code",
   "execution_count": 21,
   "metadata": {},
   "outputs": [
    {
     "data": {
      "text/html": [
       "<div>\n",
       "<style scoped>\n",
       "    .dataframe tbody tr th:only-of-type {\n",
       "        vertical-align: middle;\n",
       "    }\n",
       "\n",
       "    .dataframe tbody tr th {\n",
       "        vertical-align: top;\n",
       "    }\n",
       "\n",
       "    .dataframe thead th {\n",
       "        text-align: right;\n",
       "    }\n",
       "</style>\n",
       "<table border=\"1\" class=\"dataframe\">\n",
       "  <thead>\n",
       "    <tr style=\"text-align: right;\">\n",
       "      <th></th>\n",
       "      <th>0</th>\n",
       "    </tr>\n",
       "  </thead>\n",
       "  <tbody>\n",
       "    <tr>\n",
       "      <th>2022-11-05 00:00:00+00:00</th>\n",
       "      <td>0.5</td>\n",
       "    </tr>\n",
       "    <tr>\n",
       "      <th>2022-11-07 00:00:00+00:00</th>\n",
       "      <td>2.5</td>\n",
       "    </tr>\n",
       "  </tbody>\n",
       "</table>\n",
       "</div>"
      ],
      "text/plain": [
       "                             0\n",
       "2022-11-05 00:00:00+00:00  0.5\n",
       "2022-11-07 00:00:00+00:00  2.5"
      ]
     },
     "execution_count": 21,
     "metadata": {},
     "output_type": "execute_result"
    }
   ],
   "source": [
    "cdu.Average(ds, unit='days', amount=2).to_pandas()"
   ]
  },
  {
   "cell_type": "code",
   "execution_count": 22,
   "metadata": {},
   "outputs": [
    {
     "data": {
      "text/html": [
       "<div>\n",
       "<style scoped>\n",
       "    .dataframe tbody tr th:only-of-type {\n",
       "        vertical-align: middle;\n",
       "    }\n",
       "\n",
       "    .dataframe tbody tr th {\n",
       "        vertical-align: top;\n",
       "    }\n",
       "\n",
       "    .dataframe thead th {\n",
       "        text-align: right;\n",
       "    }\n",
       "</style>\n",
       "<table border=\"1\" class=\"dataframe\">\n",
       "  <thead>\n",
       "    <tr style=\"text-align: right;\">\n",
       "      <th></th>\n",
       "      <th>0</th>\n",
       "    </tr>\n",
       "  </thead>\n",
       "  <tbody>\n",
       "    <tr>\n",
       "      <th>2022-11-08 00:00:00+00:00</th>\n",
       "      <td>3.0</td>\n",
       "    </tr>\n",
       "  </tbody>\n",
       "</table>\n",
       "</div>"
      ],
      "text/plain": [
       "                             0\n",
       "2022-11-08 00:00:00+00:00  3.0"
      ]
     },
     "execution_count": 22,
     "metadata": {},
     "output_type": "execute_result"
    }
   ],
   "source": [
    "cdu.Align(ds, [pendulum.datetime(2022, 11, 8)]).to_pandas()"
   ]
  },
  {
   "cell_type": "markdown",
   "metadata": {},
   "source": [
    "## TableDataset\n",
    "[TableDataset documentation](../cascade.utils.html#cascade.utils.TableDataset)  \n",
    "\n",
    "  \n",
    "Frequently the work with tables is done. To track them efficiently using Cascade this wrapper was created."
   ]
  },
  {
   "cell_type": "code",
   "execution_count": 51,
   "metadata": {},
   "outputs": [
    {
     "data": {
      "text/plain": [
       "<cascade.utils.table_dataset.TableDataset\n",
       "    0  1\n",
       "0  2  0\n",
       "1  1  0\n",
       "2  1  0"
      ]
     },
     "execution_count": 51,
     "metadata": {},
     "output_type": "execute_result"
    }
   ],
   "source": [
    "import pandas as pd\n",
    "\n",
    "ds = cdu.TableDataset(t=pd.DataFrame(data=[[2, 0], [1, 0], [1, 0]]))\n",
    "ds"
   ]
  },
  {
   "cell_type": "markdown",
   "metadata": {},
   "source": [
    "The most important thing here is the extensive metadata that this wrapper holds."
   ]
  },
  {
   "cell_type": "code",
   "execution_count": 52,
   "metadata": {},
   "outputs": [
    {
     "data": {
      "text/plain": [
       "[{'name': '<cascade.utils.table_dataset.TableDataset\\n    0  1\\n0  2  0\\n1  1  0\\n2  1  0',\n",
       "  'type': 'dataset',\n",
       "  'columns': [0, 1],\n",
       "  'len': 3,\n",
       "  'info': {0: {'count': 3.0,\n",
       "    'mean': 1.3333333333333333,\n",
       "    'std': 0.5773502691896257,\n",
       "    'min': 1.0,\n",
       "    '25%': 1.0,\n",
       "    '50%': 1.0,\n",
       "    '75%': 1.5,\n",
       "    'max': 2.0},\n",
       "   1: {'count': 3.0,\n",
       "    'mean': 0.0,\n",
       "    'std': 0.0,\n",
       "    'min': 0.0,\n",
       "    '25%': 0.0,\n",
       "    '50%': 0.0,\n",
       "    '75%': 0.0,\n",
       "    'max': 0.0}}}]"
      ]
     },
     "execution_count": 52,
     "metadata": {},
     "output_type": "execute_result"
    }
   ],
   "source": [
    "ds.get_meta()"
   ]
  },
  {
   "cell_type": "markdown",
   "metadata": {},
   "source": [
    "Filtering is common when using tables. This modifier accepts binary mask and records new stage in the pipeline's metadata."
   ]
  },
  {
   "cell_type": "code",
   "execution_count": 53,
   "metadata": {},
   "outputs": [
    {
     "name": "stdout",
     "output_type": "stream",
     "text": [
      "Length before filtering: 3, length after: 2\n"
     ]
    }
   ],
   "source": [
    "ds = cdu.TableFilter(ds, ds._table[0] == 1)"
   ]
  },
  {
   "cell_type": "code",
   "execution_count": 54,
   "metadata": {},
   "outputs": [
    {
     "data": {
      "text/plain": [
       "[{'name': '<cascade.utils.table_dataset.TableFilter\\n    0  1\\n1  1  0\\n2  1  0',\n",
       "  'type': 'dataset',\n",
       "  'len': 2,\n",
       "  'columns': [0, 1],\n",
       "  'info': {0: {'count': 2.0,\n",
       "    'mean': 1.0,\n",
       "    'std': 0.0,\n",
       "    'min': 1.0,\n",
       "    '25%': 1.0,\n",
       "    '50%': 1.0,\n",
       "    '75%': 1.0,\n",
       "    'max': 1.0},\n",
       "   1: {'count': 2.0,\n",
       "    'mean': 0.0,\n",
       "    'std': 0.0,\n",
       "    'min': 0.0,\n",
       "    '25%': 0.0,\n",
       "    '50%': 0.0,\n",
       "    '75%': 0.0,\n",
       "    'max': 0.0}}},\n",
       " {'name': '<cascade.utils.table_dataset.TableDataset\\n    0  1\\n0  2  0\\n1  1  0\\n2  1  0',\n",
       "  'type': 'dataset',\n",
       "  'columns': [0, 1],\n",
       "  'len': 3,\n",
       "  'info': {0: {'count': 3.0,\n",
       "    'mean': 1.3333333333333333,\n",
       "    'std': 0.5773502691896257,\n",
       "    'min': 1.0,\n",
       "    '25%': 1.0,\n",
       "    '50%': 1.0,\n",
       "    '75%': 1.5,\n",
       "    'max': 2.0},\n",
       "   1: {'count': 3.0,\n",
       "    'mean': 0.0,\n",
       "    'std': 0.0,\n",
       "    'min': 0.0,\n",
       "    '25%': 0.0,\n",
       "    '50%': 0.0,\n",
       "    '75%': 0.0,\n",
       "    'max': 0.0}}}]"
      ]
     },
     "execution_count": 54,
     "metadata": {},
     "output_type": "execute_result"
    }
   ],
   "source": [
    "ds.get_meta()"
   ]
  },
  {
   "cell_type": "markdown",
   "metadata": {},
   "source": [
    "## More to come\n",
    "Cascade is rapidly developing and shaped to the needs of its users, so there are more new tools to come!"
   ]
  }
 ],
 "metadata": {
  "kernelspec": {
   "display_name": "Python 3.10.4 64-bit",
   "language": "python",
   "name": "python3"
  },
  "language_info": {
   "codemirror_mode": {
    "name": "ipython",
    "version": 3
   },
   "file_extension": ".py",
   "mimetype": "text/x-python",
   "name": "python",
   "nbconvert_exporter": "python",
   "pygments_lexer": "ipython3",
   "version": "3.10.4"
  },
  "orig_nbformat": 4,
  "vscode": {
   "interpreter": {
    "hash": "87f4f7b13864d85c4a2c9cc8379c2fc28050103468031879c35c8b8ef7dd6990"
   }
  }
 },
 "nbformat": 4,
 "nbformat_minor": 2
}
